{
 "cells": [
  {
   "cell_type": "code",
   "execution_count": 1,
   "id": "7abaf048",
   "metadata": {},
   "outputs": [
    {
     "name": "stdout",
     "output_type": "stream",
     "text": [
      "Defaulting to user installation because normal site-packages is not writeable\n",
      "Requirement already satisfied: tensorflow==2.5.0 in c:\\users\\yiyun\\appdata\\roaming\\python\\python37\\site-packages (2.5.0)\n",
      "Requirement already satisfied: gym in c:\\users\\yiyun\\appdata\\roaming\\python\\python37\\site-packages (0.21.0)\n",
      "Requirement already satisfied: keras-rl2 in c:\\users\\yiyun\\appdata\\roaming\\python\\python37\\site-packages (1.0.5)\n",
      "Requirement already satisfied: wrapt~=1.12.1 in c:\\users\\yiyun\\appdata\\roaming\\python\\python37\\site-packages (from tensorflow==2.5.0) (1.12.1)\n",
      "Requirement already satisfied: protobuf>=3.9.2 in c:\\users\\yiyun\\appdata\\roaming\\python\\python37\\site-packages (from tensorflow==2.5.0) (3.9.2)\n",
      "Requirement already satisfied: flatbuffers~=1.12.0 in c:\\users\\yiyun\\appdata\\roaming\\python\\python37\\site-packages (from tensorflow==2.5.0) (1.12)\n",
      "Requirement already satisfied: numpy~=1.19.2 in c:\\users\\yiyun\\appdata\\roaming\\python\\python37\\site-packages (from tensorflow==2.5.0) (1.19.5)\n",
      "Requirement already satisfied: typing-extensions~=3.7.4 in c:\\users\\yiyun\\appdata\\roaming\\python\\python37\\site-packages (from tensorflow==2.5.0) (3.7.4.3)\n",
      "Requirement already satisfied: h5py~=3.1.0 in c:\\users\\yiyun\\appdata\\roaming\\python\\python37\\site-packages (from tensorflow==2.5.0) (3.1.0)\n",
      "Requirement already satisfied: six~=1.15.0 in c:\\users\\yiyun\\appdata\\roaming\\python\\python37\\site-packages (from tensorflow==2.5.0) (1.15.0)\n",
      "Requirement already satisfied: absl-py~=0.10 in c:\\users\\yiyun\\appdata\\roaming\\python\\python37\\site-packages (from tensorflow==2.5.0) (0.15.0)\n",
      "Requirement already satisfied: tensorboard~=2.5 in c:\\users\\yiyun\\appdata\\roaming\\python\\python37\\site-packages (from tensorflow==2.5.0) (2.10.1)\n",
      "Requirement already satisfied: keras-preprocessing~=1.1.2 in c:\\users\\yiyun\\appdata\\roaming\\python\\python37\\site-packages (from tensorflow==2.5.0) (1.1.2)\n",
      "Requirement already satisfied: gast==0.4.0 in c:\\users\\yiyun\\appdata\\roaming\\python\\python37\\site-packages (from tensorflow==2.5.0) (0.4.0)\n",
      "Requirement already satisfied: opt-einsum~=3.3.0 in c:\\users\\yiyun\\appdata\\roaming\\python\\python37\\site-packages (from tensorflow==2.5.0) (3.3.0)\n",
      "Requirement already satisfied: astunparse~=1.6.3 in c:\\users\\yiyun\\appdata\\roaming\\python\\python37\\site-packages (from tensorflow==2.5.0) (1.6.3)\n",
      "Requirement already satisfied: wheel~=0.35 in c:\\users\\yiyun\\appdata\\roaming\\python\\python37\\site-packages (from tensorflow==2.5.0) (0.37.1)\n",
      "Requirement already satisfied: google-pasta~=0.2 in c:\\users\\yiyun\\appdata\\roaming\\python\\python37\\site-packages (from tensorflow==2.5.0) (0.2.0)\n",
      "Requirement already satisfied: keras-nightly~=2.5.0.dev in c:\\users\\yiyun\\appdata\\roaming\\python\\python37\\site-packages (from tensorflow==2.5.0) (2.5.0.dev2021032900)\n",
      "Requirement already satisfied: tensorflow-estimator<2.6.0,>=2.5.0rc0 in c:\\users\\yiyun\\appdata\\roaming\\python\\python37\\site-packages (from tensorflow==2.5.0) (2.5.0)\n",
      "Requirement already satisfied: grpcio~=1.34.0 in c:\\users\\yiyun\\appdata\\roaming\\python\\python37\\site-packages (from tensorflow==2.5.0) (1.34.1)\n",
      "Requirement already satisfied: termcolor~=1.1.0 in c:\\users\\yiyun\\appdata\\roaming\\python\\python37\\site-packages (from tensorflow==2.5.0) (1.1.0)\n",
      "Requirement already satisfied: importlib-metadata>=4.8.1; python_version < \"3.8\" in c:\\users\\yiyun\\appdata\\roaming\\python\\python37\\site-packages (from gym) (4.11.2)\n",
      "Requirement already satisfied: cloudpickle>=1.2.0 in c:\\users\\yiyun\\appdata\\roaming\\python\\python37\\site-packages (from gym) (2.2.0)\n",
      "Requirement already satisfied: setuptools in c:\\program files\\python37\\lib\\site-packages (from protobuf>=3.9.2->tensorflow==2.5.0) (47.1.0)\n",
      "Requirement already satisfied: cached-property; python_version < \"3.8\" in c:\\users\\yiyun\\appdata\\roaming\\python\\python37\\site-packages (from h5py~=3.1.0->tensorflow==2.5.0) (1.5.2)\n",
      "Requirement already satisfied: werkzeug>=1.0.1 in c:\\users\\yiyun\\appdata\\roaming\\python\\python37\\site-packages (from tensorboard~=2.5->tensorflow==2.5.0) (2.2.2)\n",
      "Requirement already satisfied: google-auth<3,>=1.6.3 in c:\\users\\yiyun\\appdata\\roaming\\python\\python37\\site-packages (from tensorboard~=2.5->tensorflow==2.5.0) (2.13.0)\n",
      "Requirement already satisfied: markdown>=2.6.8 in c:\\users\\yiyun\\appdata\\roaming\\python\\python37\\site-packages (from tensorboard~=2.5->tensorflow==2.5.0) (3.4.1)\n",
      "Requirement already satisfied: requests<3,>=2.21.0 in c:\\users\\yiyun\\appdata\\roaming\\python\\python37\\site-packages (from tensorboard~=2.5->tensorflow==2.5.0) (2.27.1)\n",
      "Requirement already satisfied: google-auth-oauthlib<0.5,>=0.4.1 in c:\\users\\yiyun\\appdata\\roaming\\python\\python37\\site-packages (from tensorboard~=2.5->tensorflow==2.5.0) (0.4.6)\n",
      "Requirement already satisfied: tensorboard-plugin-wit>=1.6.0 in c:\\users\\yiyun\\appdata\\roaming\\python\\python37\\site-packages (from tensorboard~=2.5->tensorflow==2.5.0) (1.8.1)\n",
      "Requirement already satisfied: tensorboard-data-server<0.7.0,>=0.6.0 in c:\\users\\yiyun\\appdata\\roaming\\python\\python37\\site-packages (from tensorboard~=2.5->tensorflow==2.5.0) (0.6.1)\n",
      "Requirement already satisfied: zipp>=0.5 in c:\\users\\yiyun\\appdata\\roaming\\python\\python37\\site-packages (from importlib-metadata>=4.8.1; python_version < \"3.8\"->gym) (3.7.0)\n",
      "Requirement already satisfied: MarkupSafe>=2.1.1 in c:\\users\\yiyun\\appdata\\roaming\\python\\python37\\site-packages (from werkzeug>=1.0.1->tensorboard~=2.5->tensorflow==2.5.0) (2.1.1)\n",
      "Requirement already satisfied: pyasn1-modules>=0.2.1 in c:\\users\\yiyun\\appdata\\roaming\\python\\python37\\site-packages (from google-auth<3,>=1.6.3->tensorboard~=2.5->tensorflow==2.5.0) (0.2.8)\n",
      "Requirement already satisfied: cachetools<6.0,>=2.0.0 in c:\\users\\yiyun\\appdata\\roaming\\python\\python37\\site-packages (from google-auth<3,>=1.6.3->tensorboard~=2.5->tensorflow==2.5.0) (5.2.0)\n",
      "Requirement already satisfied: rsa<5,>=3.1.4; python_version >= \"3.6\" in c:\\users\\yiyun\\appdata\\roaming\\python\\python37\\site-packages (from google-auth<3,>=1.6.3->tensorboard~=2.5->tensorflow==2.5.0) (4.9)\n",
      "Requirement already satisfied: charset-normalizer~=2.0.0; python_version >= \"3\" in c:\\users\\yiyun\\appdata\\roaming\\python\\python37\\site-packages (from requests<3,>=2.21.0->tensorboard~=2.5->tensorflow==2.5.0) (2.0.12)\n",
      "Requirement already satisfied: idna<4,>=2.5; python_version >= \"3\" in c:\\users\\yiyun\\appdata\\roaming\\python\\python37\\site-packages (from requests<3,>=2.21.0->tensorboard~=2.5->tensorflow==2.5.0) (3.3)\n",
      "Requirement already satisfied: certifi>=2017.4.17 in c:\\users\\yiyun\\appdata\\roaming\\python\\python37\\site-packages (from requests<3,>=2.21.0->tensorboard~=2.5->tensorflow==2.5.0) (2021.10.8)\n",
      "Requirement already satisfied: urllib3<1.27,>=1.21.1 in c:\\users\\yiyun\\appdata\\roaming\\python\\python37\\site-packages (from requests<3,>=2.21.0->tensorboard~=2.5->tensorflow==2.5.0) (1.26.8)\n",
      "Requirement already satisfied: requests-oauthlib>=0.7.0 in c:\\users\\yiyun\\appdata\\roaming\\python\\python37\\site-packages (from google-auth-oauthlib<0.5,>=0.4.1->tensorboard~=2.5->tensorflow==2.5.0) (1.3.1)\n",
      "Requirement already satisfied: pyasn1<0.5.0,>=0.4.6 in c:\\users\\yiyun\\appdata\\roaming\\python\\python37\\site-packages (from pyasn1-modules>=0.2.1->google-auth<3,>=1.6.3->tensorboard~=2.5->tensorflow==2.5.0) (0.4.8)\n",
      "Requirement already satisfied: oauthlib>=3.0.0 in c:\\users\\yiyun\\appdata\\roaming\\python\\python37\\site-packages (from requests-oauthlib>=0.7.0->google-auth-oauthlib<0.5,>=0.4.1->tensorboard~=2.5->tensorflow==2.5.0) (3.2.2)\n"
     ]
    },
    {
     "name": "stderr",
     "output_type": "stream",
     "text": [
      "WARNING: You are using pip version 20.1.1; however, version 22.3 is available.\n",
      "You should consider upgrading via the 'c:\\program files\\python37\\python.exe -m pip install --upgrade pip' command.\n"
     ]
    }
   ],
   "source": [
    "!pip install tensorflow==2.5.0 gym keras-rl2 gym[atari]"
   ]
  },
  {
   "cell_type": "markdown",
   "id": "6f8a2100",
   "metadata": {},
   "source": [
    "## I choose SpaceInvaders ROM for this assignment,which is an Atari-like game,and supported by OpenAI Gym.\n",
    "## Space Invaders is a two-dimensional fixed shooter game in which the player controls a laser cannon by moving it horizontally across the bottom of the screen and firing at descending aliens. The aim is to defeat five rows of eleven aliens—some versions feature different numbers—that move horizontally back and forth across the screen as they advance towards the bottom of the screen. The player defeats an alien, and earns points, by shooting it with the laser cannon. As more aliens are defeated, the aliens' movement and the game's music both speed up. Defeating the aliens brings another wave that is more difficult, a loop which can continue without end.\n",
    "## The aliens attempt to destroy the cannon by firing at it while they approach the bottom of the screen. If they reach the bottom, the alien invasion is successful and the game ends. A special 'mystery ship' will occasionally move across the top of the screen and award bonus points if destroyed. The laser cannon is partially protected by several stationary defense bunkers—the number varies by version—that are gradually destroyed by projectiles from the aliens and player.\n",
    "## For the environment,I used tensorflow,pytorch,torchvision,numpy ,python3.6,gym==0.17.0.If use python3.7,the pytorch may conflict to numpy and throw error.\n",
    "## Downloaded the game from this link:http://www.atarimania.com/rom_collection_archive_atari_2600_roms.html"
   ]
  },
  {
   "cell_type": "markdown",
   "id": "c01333ea",
   "metadata": {},
   "source": [
    "# Import Libraries"
   ]
  },
  {
   "cell_type": "code",
   "execution_count": 2,
   "id": "67c521b8",
   "metadata": {},
   "outputs": [],
   "source": [
    "%matplotlib inline\n",
    "import gym\n",
    "import math\n",
    "import random\n",
    "import numpy as np\n",
    "import matplotlib\n",
    "import matplotlib.pyplot as plt\n",
    "from collections import namedtuple\n",
    "from itertools import count\n",
    "from PIL import Image\n",
    "import torch\n",
    "import torch.nn as nn\n",
    "import torch.optim as optim\n",
    "import torch.nn.functional as F\n",
    "import torchvision.transforms as T"
   ]
  },
  {
   "cell_type": "markdown",
   "id": "2f476f76",
   "metadata": {},
   "source": [
    "# Set Display"
   ]
  },
  {
   "cell_type": "code",
   "execution_count": 3,
   "id": "3649165f",
   "metadata": {},
   "outputs": [],
   "source": [
    "is_ipython = 'inline' in matplotlib.get_backend()\n",
    "if is_ipython: from IPython import display"
   ]
  },
  {
   "cell_type": "markdown",
   "id": "ec2de7c0",
   "metadata": {},
   "source": [
    "# Deep Q-Network"
   ]
  },
  {
   "cell_type": "code",
   "execution_count": 4,
   "id": "375614bf",
   "metadata": {},
   "outputs": [],
   "source": [
    "class DQN(nn.Module):\n",
    "    def __init__(self, img_height, img_width):\n",
    "        super().__init__()\n",
    "        \n",
    "        self.fc1 = nn.Linear(in_features=img_height*img_width*3, out_features=24)\n",
    "        self.fc2 = nn.Linear(in_features=24, out_features=32)\n",
    "        self.out = nn.Linear(in_features=32, out_features=6)\n",
    "        \n",
    "    def forward(self, t):\n",
    "        t = t.flatten(start_dim=1)\n",
    "        t = F.relu(self.fc1(t))\n",
    "        t = F.relu(self.fc2(t))\n",
    "        t = self.out(t)\n",
    "        return t"
   ]
  },
  {
   "cell_type": "markdown",
   "id": "77f40bf5",
   "metadata": {},
   "source": [
    "# Experience class"
   ]
  },
  {
   "cell_type": "code",
   "execution_count": 5,
   "id": "f5b44a70",
   "metadata": {},
   "outputs": [],
   "source": [
    "Experience = namedtuple(\n",
    "    'Experience',\n",
    "    ('state', 'action', 'next_state', 'reward')\n",
    ")"
   ]
  },
  {
   "cell_type": "markdown",
   "id": "6386b4fd",
   "metadata": {},
   "source": [
    "# Replay Memory"
   ]
  },
  {
   "cell_type": "code",
   "execution_count": 6,
   "id": "6814e899",
   "metadata": {},
   "outputs": [],
   "source": [
    "class ReplayMemory():\n",
    "    def __init__(self, capacity):\n",
    "        self.capacity = capacity\n",
    "        self.memory = []\n",
    "        self.push_count = 0\n",
    "    \n",
    "    def push(self, experience):\n",
    "        if len(self.memory) < self.capacity:\n",
    "            self.memory.append(experience)\n",
    "        else:\n",
    "            self.memory[self.push_count % self.capacity] = experience\n",
    "        self.push_count += 1\n",
    "        \n",
    "    def sample(self, batch_size):\n",
    "        return random.sample(self.memory, batch_size)\n",
    "    \n",
    "    def can_provide_sample(self, batch_size):\n",
    "        return len(self.memory) >= batch_size"
   ]
  },
  {
   "cell_type": "markdown",
   "id": "85e07613",
   "metadata": {},
   "source": [
    "# Epsilon Greedy Strategy"
   ]
  },
  {
   "cell_type": "code",
   "execution_count": 7,
   "id": "6b8b25a6",
   "metadata": {},
   "outputs": [],
   "source": [
    "class EpsilonGreedyStrategy():\n",
    "    def __init__(self, start, end, decay):\n",
    "        self.start = start\n",
    "        self.end = end\n",
    "        self.decay = decay\n",
    "        \n",
    "    def get_exploration_rate(self, current_step):\n",
    "        return self.end + (self.start - self.end) * \\\n",
    "            math.exp(-1. * current_step * self.decay)"
   ]
  },
  {
   "cell_type": "markdown",
   "id": "38ce9ffa",
   "metadata": {},
   "source": [
    "# Reinforcement Learning Agent"
   ]
  },
  {
   "cell_type": "code",
   "execution_count": 8,
   "id": "5561f4c3",
   "metadata": {},
   "outputs": [],
   "source": [
    "class Agent():\n",
    "    def __init__(self, strategy, num_actions, device):\n",
    "        self.current_step = 0\n",
    "        self.strategy = strategy\n",
    "        self.num_actions = num_actions\n",
    "        self.device = device\n",
    "    \n",
    "    def select_action(self, state, policy_net):\n",
    "        rate = strategy.get_exploration_rate(self.current_step)\n",
    "        self.current_step += 1\n",
    "        \n",
    "        if rate > random.random():\n",
    "            action = random.randrange(self.num_actions) #explore\n",
    "            return torch.tensor([action]).to(device)\n",
    "        else:\n",
    "            with torch.no_grad():\n",
    "                return policy_net(state).argmax(dim=1).to(device) #exploit"
   ]
  },
  {
   "cell_type": "markdown",
   "id": "e9be9ff3",
   "metadata": {},
   "source": [
    "# SpaceInvaders Environment Manager"
   ]
  },
  {
   "cell_type": "code",
   "execution_count": 9,
   "id": "7a9c17bc",
   "metadata": {},
   "outputs": [],
   "source": [
    "class SpaceInvadersEnvManager():\n",
    "    def __init__(self, device):\n",
    "        self.device = device\n",
    "#         Only SpaceInvaders-v0 and SpaceInvaders-v4 are available.\n",
    "        self.env = gym.make('SpaceInvaders-v0').unwrapped\n",
    "        self.env.reset()\n",
    "        self.current_screen = None\n",
    "        self.done = False\n",
    "        \n",
    "    def reset(self):\n",
    "        self.env.reset()\n",
    "        self.current_screen = None\n",
    "    \n",
    "    def close(self):\n",
    "        self.env.close()\n",
    "    \n",
    "    def render(self, mode='human'):\n",
    "        return self.env.render(mode)\n",
    "    \n",
    "    def num_actions_available(self):\n",
    "        return self.env.action_space.n\n",
    "    \n",
    "    def take_action(self, action):\n",
    "        _, reward, self.done, _ = self.env.step(action.item())\n",
    "        return torch.tensor([reward], device=self.device)\n",
    "    \n",
    "    def just_starting(self):\n",
    "        return self.current_screen is None\n",
    "    \n",
    "    def get_state(self):\n",
    "        if self.just_starting() or self.done:\n",
    "            self.current_screen = self.get_processed_screen()\n",
    "            black_screen = torch.zeros_like(self.current_screen)\n",
    "            return black_screen\n",
    "        else:\n",
    "            s1 = self.current_screen\n",
    "            s2 = self.get_processed_screen()\n",
    "            self.current_screen = s2\n",
    "            return s2 - s1\n",
    "    \n",
    "    def get_screen_height(self):\n",
    "        screen = self.get_processed_screen()\n",
    "        return screen.shape[2]\n",
    "    \n",
    "    def get_screen_width(self):\n",
    "        screen = self.get_processed_screen()\n",
    "        return screen.shape[3]\n",
    "    \n",
    "    def get_processed_screen(self):\n",
    "        screen = self.render('rgb_array').transpose((2, 0, 1))\n",
    "        screen = self.crop_screen(screen)\n",
    "        return self.transform_screen_data(screen)\n",
    "    \n",
    "    def crop_screen(self, screen):\n",
    "        screen_height = screen.shape[1]\n",
    "        \n",
    "        # Strip off top and bottom\n",
    "        top = int(screen_height * 0.4)\n",
    "        bottom = int(screen_height * 0.8)\n",
    "        screen = screen[:, top:bottom, :]\n",
    "        return screen\n",
    "    \n",
    "    def transform_screen_data(self, screen):\n",
    "        # Convert to float, rescale, convert to tensor\n",
    "        screen = np.ascontiguousarray(screen, dtype=np.float32) / 255\n",
    "        screen = torch.from_numpy(screen)\n",
    "        \n",
    "        # Use torchvision package to compose image transforms\n",
    "        resize = T.Compose([\n",
    "            T.ToPILImage()\n",
    "            , T.Resize((40,90))\n",
    "            , T.ToTensor()\n",
    "        ])\n",
    "        \n",
    "        return resize(screen).unsqueeze(0).to(self.device)"
   ]
  },
  {
   "cell_type": "markdown",
   "id": "00f072c4",
   "metadata": {},
   "source": [
    "# Outputs of Experience"
   ]
  },
  {
   "cell_type": "code",
   "execution_count": 10,
   "id": "a193d20e",
   "metadata": {},
   "outputs": [],
   "source": [
    "def plot(values, moving_avg_period):\n",
    "    plt.figure(2)\n",
    "    plt.clf()\n",
    "    plt.title('Training...')\n",
    "    plt.xlabel('Episode')\n",
    "    plt.ylabel('Score')\n",
    "    plt.plot(values)\n",
    "    moving_avg = get_moving_average(moving_avg_period, values)\n",
    "    plt.plot(moving_avg)\n",
    "    plt.pause(0.001)\n",
    "    print(\"Episode\", len(values), \"\\n\", \\\n",
    "          moving_avg_period, \"episode score avg:\", moving_avg[-1])\n",
    "    if is_ipython: display.clear_output(wait=True)\n",
    "        \n",
    "def get_moving_average(period, values):\n",
    "    values = torch.tensor(values, dtype=torch.float)\n",
    "    if len(values) >= period:\n",
    "        moving_avg = values.unfold(dimension = 0, size = period, step = 1) \\\n",
    "            .mean(dim=1).flatten(start_dim=0)\n",
    "        moving_avg = torch.cat((torch.zeros(period-1), moving_avg))\n",
    "        return moving_avg.numpy()\n",
    "    else:\n",
    "        moving_avg = torch.zeros(len(values))\n",
    "        return moving_avg.numpy()"
   ]
  },
  {
   "cell_type": "markdown",
   "id": "bb3ba75c",
   "metadata": {},
   "source": [
    "# Tensor Processing"
   ]
  },
  {
   "cell_type": "code",
   "execution_count": 11,
   "id": "d3014c2d",
   "metadata": {},
   "outputs": [],
   "source": [
    "def extract_tensors(experiences):\n",
    "    batch = Experience(*zip(*experiences))\n",
    "    \n",
    "    t1 = torch.cat(batch.state)\n",
    "    t2 = torch.cat(batch.action)\n",
    "    t3 = torch.cat(batch.reward)\n",
    "    t4 = torch.cat(batch.next_state)\n",
    "    \n",
    "    return (t1, t2, t3, t4)"
   ]
  },
  {
   "cell_type": "markdown",
   "id": "196d2de1",
   "metadata": {},
   "source": [
    "# Q-Value Calculator"
   ]
  },
  {
   "cell_type": "code",
   "execution_count": 12,
   "id": "22092cd2",
   "metadata": {},
   "outputs": [],
   "source": [
    "class QValues():\n",
    "    device = torch.device(\"cuda\" if torch.cuda.is_available() else \"cpu\")\n",
    "    \n",
    "    @staticmethod\n",
    "    def get_current(policy_net, states, actions):\n",
    "        return policy_net(states).gather(dim=1, index=actions.unsqueeze(-1))\n",
    "    \n",
    "    @staticmethod\n",
    "    def get_next(target_net, next_states):\n",
    "        final_state_locations = next_states.flatten(start_dim=1) \\\n",
    "            .max(dim=1)[0].eq(0).type(torch.bool)\n",
    "        non_final_state_locations = (final_state_locations == False)\n",
    "        non_final_states = next_states[non_final_state_locations]\n",
    "        batch_size = next_states.shape[0]\n",
    "        values = torch.zeros(batch_size).to(QValues.device)\n",
    "        values[non_final_state_locations] = target_net(non_final_states).max(dim=1)[0].detach()\n",
    "        return values"
   ]
  },
  {
   "cell_type": "markdown",
   "id": "633a4290",
   "metadata": {},
   "source": [
    "# Instructions"
   ]
  },
  {
   "cell_type": "markdown",
   "id": "234d1fa5",
   "metadata": {},
   "source": [
    "1.Establish a baseline performance. How well did your Deep Q-learning do on your problem? (5 Points)"
   ]
  },
  {
   "cell_type": "markdown",
   "id": "6c3cfd7f",
   "metadata": {},
   "source": [
    "batch_size = 256\n",
    "gamma = 0.999\n",
    "eps_start = 1\n",
    "eps_end = 0.01\n",
    "eps_decay = 0.001\n",
    "target_update = 10\n",
    "memory_size = 100000\n",
    "lr = 0.001\n",
    "num_episodes = 200\n",
    "With this baseline performance, our RL program with the SpaceInvaders-v0 gives us a score of 162.15,and the score from the beginning is almost as high as the score at the end,means it learned nothing."
   ]
  },
  {
   "cell_type": "code",
   "execution_count": 13,
   "id": "f8b495e4",
   "metadata": {},
   "outputs": [
    {
     "data": {
      "image/png": "[encoded data removed]",
      "text/plain": [
       "<Figure size 432x288 with 1 Axes>"
      ]
     },
     "metadata": {
      "needs_background": "light"
     },
     "output_type": "display_data"
    },
    {
     "name": "stdout",
     "output_type": "stream",
     "text": [
      "Episode 200 \n",
      " 100 episode score avg: 162.15\n"
     ]
    }
   ],
   "source": [
    "batch_size = 256\n",
    "gamma = 0.999\n",
    "eps_start = 1\n",
    "eps_end = 0.01\n",
    "eps_decay = 0.001\n",
    "target_update = 10\n",
    "memory_size = 100000\n",
    "lr = 0.001\n",
    "num_episodes = 200\n",
    "\n",
    "device = torch.device(\"cuda\" if torch.cuda.is_available() else \"cpu\")\n",
    "em = SpaceInvadersEnvManager(device)\n",
    "strategy = EpsilonGreedyStrategy(eps_start, eps_end, eps_decay)\n",
    "agent = Agent(strategy, em.num_actions_available(), device)\n",
    "memory = ReplayMemory(memory_size)\n",
    "\n",
    "policy_net = DQN(em.get_screen_height(), em.get_screen_width()).to(device)\n",
    "target_net = DQN(em.get_screen_height(), em.get_screen_width()).to(device)\n",
    "target_net.load_state_dict(policy_net.state_dict())\n",
    "target_net.eval()\n",
    "optimizer = optim.Adam(params=policy_net.parameters(), lr=lr)\n",
    "\n",
    "episode_scores = []\n",
    "for episode in range(num_episodes):\n",
    "    em.reset()\n",
    "    state = em.get_state()\n",
    "    episode_scores.append(0)\n",
    "    \n",
    "    for timestep in count():\n",
    "        action = agent.select_action(state, policy_net)\n",
    "        reward = em.take_action(action)\n",
    "        next_state = em.get_state()\n",
    "        memory.push(Experience(state, action, next_state, reward))\n",
    "        state = next_state\n",
    "        \n",
    "        episode_scores[episode] += reward\n",
    "        \n",
    "        if(memory.can_provide_sample(batch_size)):\n",
    "            experiences = memory.sample(batch_size)\n",
    "            states, actions, rewards, next_states = extract_tensors(experiences)\n",
    "            \n",
    "            current_q_values = QValues.get_current(policy_net, states, actions)\n",
    "            next_q_values = QValues.get_next(target_net, next_states)\n",
    "            target_q_values = (next_q_values * gamma) + rewards\n",
    "            \n",
    "            loss = F.mse_loss(current_q_values, target_q_values.unsqueeze(1))\n",
    "            optimizer.zero_grad()\n",
    "            loss.backward()\n",
    "            optimizer.step()\n",
    "            \n",
    "        if em.done:\n",
    "            plot(episode_scores, 100)\n",
    "            break\n",
    "    \n",
    "    if episode % target_update == 0:\n",
    "        target_net.load_state_dict(policy_net.state_dict())\n",
    "\n",
    "em.close()"
   ]
  },
  {
   "cell_type": "markdown",
   "id": "8c408675",
   "metadata": {},
   "source": [
    "2.What are the states, the actions, and the size of the Q-table? (5 Points)\n",
    "\n"
   ]
  },
  {
   "cell_type": "markdown",
   "id": "fcfae621",
   "metadata": {},
   "source": [
    "States:RPG images shown on screen, which is an array of shape (210, 160, 3).\n",
    "Actions:['NOOP', 'FIRE', 'RIGHT', 'LEFT', 'RIGHTFIRE', 'LEFTFIRE']\n",
    "Q-table=The number of states * The number of actions. Each state has different choices, the number of choices is the number of actions."
   ]
  },
  {
   "cell_type": "code",
   "execution_count": 16,
   "id": "8faeab18",
   "metadata": {},
   "outputs": [
    {
     "name": "stdout",
     "output_type": "stream",
     "text": [
      "['NOOP', 'FIRE', 'RIGHT', 'LEFT', 'RIGHTFIRE', 'LEFTFIRE']\n",
      "(210, 160, 3)\n"
     ]
    }
   ],
   "source": [
    "temp = gym.make('SpaceInvaders-v0')\n",
    "print(temp.env.get_action_meanings())\n",
    "print(temp.env.observation_space.shape)"
   ]
  },
  {
   "cell_type": "markdown",
   "id": "4b7cf61d",
   "metadata": {},
   "source": [
    "3.What are the rewards? Why did you choose them? (5 Points)"
   ]
  },
  {
   "cell_type": "markdown",
   "id": "0b6d1969",
   "metadata": {},
   "source": [
    "Rewards:score of the game\n",
    "Why:the goal of the game is to get a higher score,and score are easy to compare."
   ]
  },
  {
   "cell_type": "markdown",
   "id": "ca88e381",
   "metadata": {},
   "source": [
    "4.How did you choose alpha and gamma in the Bellman equation? Try at least one additional value for alpha and gamma. How did it change the baseline performance? (5 Points)"
   ]
  },
  {
   "cell_type": "code",
   "execution_count": null,
   "id": "98a42561",
   "metadata": {},
   "outputs": [
    {
     "data": {
      "image/png": "[encoded data removed]",
      "text/plain": [
       "<Figure size 432x288 with 1 Axes>"
      ]
     },
     "metadata": {
      "needs_background": "light"
     },
     "output_type": "display_data"
    },
    {
     "name": "stdout",
     "output_type": "stream",
     "text": [
      "Episode 61 \n",
      " 100 episode score avg: 0.0\n"
     ]
    }
   ],
   "source": [
    "# change lr from 0.001 to 0.9\n",
    "batch_size = 256\n",
    "gamma = 0.999\n",
    "eps_start = 1\n",
    "eps_end = 0.01\n",
    "eps_decay = 0.001\n",
    "target_update = 10\n",
    "memory_size = 100000\n",
    "lr = 0.9\n",
    "num_episodes = 200\n",
    "\n",
    "device = torch.device(\"cuda\" if torch.cuda.is_available() else \"cpu\")\n",
    "em = SpaceInvadersEnvManager(device)\n",
    "strategy = EpsilonGreedyStrategy(eps_start, eps_end, eps_decay)\n",
    "agent = Agent(strategy, em.num_actions_available(), device)\n",
    "memory = ReplayMemory(memory_size)\n",
    "\n",
    "policy_net = DQN(em.get_screen_height(), em.get_screen_width()).to(device)\n",
    "target_net = DQN(em.get_screen_height(), em.get_screen_width()).to(device)\n",
    "target_net.load_state_dict(policy_net.state_dict())\n",
    "target_net.eval()\n",
    "optimizer = optim.Adam(params=policy_net.parameters(), lr=lr)\n",
    "\n",
    "episode_scores = []\n",
    "for episode in range(num_episodes):\n",
    "    em.reset()\n",
    "    state = em.get_state()\n",
    "    episode_scores.append(0)\n",
    "    \n",
    "    for timestep in count():\n",
    "        action = agent.select_action(state, policy_net)\n",
    "        reward = em.take_action(action)\n",
    "        next_state = em.get_state()\n",
    "        memory.push(Experience(state, action, next_state, reward))\n",
    "        state = next_state\n",
    "        \n",
    "        episode_scores[episode] += reward\n",
    "        \n",
    "        if(memory.can_provide_sample(batch_size)):\n",
    "            experiences = memory.sample(batch_size)\n",
    "            states, actions, rewards, next_states = extract_tensors(experiences)\n",
    "            \n",
    "            current_q_values = QValues.get_current(policy_net, states, actions)\n",
    "            next_q_values = QValues.get_next(target_net, next_states)\n",
    "            target_q_values = (next_q_values * gamma) + rewards\n",
    "            \n",
    "            loss = F.mse_loss(current_q_values, target_q_values.unsqueeze(1))\n",
    "            optimizer.zero_grad()\n",
    "            loss.backward()\n",
    "            optimizer.step()\n",
    "            \n",
    "        if em.done:\n",
    "            plot(episode_scores, 100)\n",
    "            break\n",
    "    \n",
    "    if episode % target_update == 0:\n",
    "        target_net.load_state_dict(policy_net.state_dict())\n",
    "\n",
    "em.close()"
   ]
  },
  {
   "cell_type": "code",
   "execution_count": null,
   "id": "64f848a6",
   "metadata": {},
   "outputs": [],
   "source": [
    "# change gamma from 0.999 to 0.1\n",
    "batch_size = 256\n",
    "gamma = 0.1\n",
    "eps_start = 1\n",
    "eps_end = 0.01\n",
    "eps_decay = 0.001\n",
    "target_update = 10\n",
    "memory_size = 100000\n",
    "lr = 0.001\n",
    "num_episodes = 200\n",
    "\n",
    "device = torch.device(\"cuda\" if torch.cuda.is_available() else \"cpu\")\n",
    "em = SpaceInvadersEnvManager(device)\n",
    "strategy = EpsilonGreedyStrategy(eps_start, eps_end, eps_decay)\n",
    "agent = Agent(strategy, em.num_actions_available(), device)\n",
    "memory = ReplayMemory(memory_size)\n",
    "\n",
    "policy_net = DQN(em.get_screen_height(), em.get_screen_width()).to(device)\n",
    "target_net = DQN(em.get_screen_height(), em.get_screen_width()).to(device)\n",
    "target_net.load_state_dict(policy_net.state_dict())\n",
    "target_net.eval()\n",
    "optimizer = optim.Adam(params=policy_net.parameters(), lr=lr)\n",
    "\n",
    "episode_scores = []\n",
    "for episode in range(num_episodes):\n",
    "    em.reset()\n",
    "    state = em.get_state()\n",
    "    episode_scores.append(0)\n",
    "    \n",
    "    for timestep in count():\n",
    "        action = agent.select_action(state, policy_net)\n",
    "        reward = em.take_action(action)\n",
    "        next_state = em.get_state()\n",
    "        memory.push(Experience(state, action, next_state, reward))\n",
    "        state = next_state\n",
    "        \n",
    "        episode_scores[episode] += reward\n",
    "        \n",
    "        if(memory.can_provide_sample(batch_size)):\n",
    "            experiences = memory.sample(batch_size)\n",
    "            states, actions, rewards, next_states = extract_tensors(experiences)\n",
    "            \n",
    "            current_q_values = QValues.get_current(policy_net, states, actions)\n",
    "            next_q_values = QValues.get_next(target_net, next_states)\n",
    "            target_q_values = (next_q_values * gamma) + rewards\n",
    "            \n",
    "            loss = F.mse_loss(current_q_values, target_q_values.unsqueeze(1))\n",
    "            optimizer.zero_grad()\n",
    "            loss.backward()\n",
    "            optimizer.step()\n",
    "            \n",
    "        if em.done:\n",
    "            plot(episode_scores, 100)\n",
    "            break\n",
    "    \n",
    "    if episode % target_update == 0:\n",
    "        target_net.load_state_dict(policy_net.state_dict())\n",
    "\n",
    "em.close()"
   ]
  },
  {
   "cell_type": "markdown",
   "id": "fff27dc7",
   "metadata": {},
   "source": [
    "5.Try a policy other than e-greedy. How did it change the baseline performance? (5 Points)"
   ]
  },
  {
   "cell_type": "markdown",
   "id": "e5a54ca3",
   "metadata": {},
   "source": [
    "Policy:Random Sampling"
   ]
  },
  {
   "cell_type": "code",
   "execution_count": null,
   "id": "2c865a0c",
   "metadata": {},
   "outputs": [],
   "source": [
    "class RandomSamplingStrategy():\n",
    "    def __init__(self, start, end, decay):\n",
    "        self.start = start\n",
    "        self.end = end\n",
    "        self.decay = decay"
   ]
  },
  {
   "cell_type": "code",
   "execution_count": null,
   "id": "7ca8359c",
   "metadata": {},
   "outputs": [],
   "source": [
    "class Agent():\n",
    "    def __init__(self, strategy, num_actions, device):\n",
    "        self.current_step = 0\n",
    "        self.strategy = strategy\n",
    "        self.num_actions = num_actions\n",
    "        self.device = device\n",
    "    \n",
    "    def select_action(self, state, policy_net):\n",
    "        self.current_step += 1\n",
    "\n",
    "        action = random.randrange(self.num_actions) #explore\n",
    "        return torch.tensor([action]).to(device)"
   ]
  },
  {
   "cell_type": "code",
   "execution_count": null,
   "id": "c760e5ab",
   "metadata": {},
   "outputs": [],
   "source": [
    "batch_size = 256\n",
    "gamma = 0.999\n",
    "eps_start = 1\n",
    "eps_end = 0.01\n",
    "eps_decay = 0.001\n",
    "target_update = 10\n",
    "memory_size = 100000\n",
    "lr = 0.001\n",
    "num_episodes = 200\n",
    "\n",
    "device = torch.device(\"cuda\" if torch.cuda.is_available() else \"cpu\")\n",
    "em = SpaceInvadersEnvManager(device)\n",
    "strategy = RandomSamplingStrategy(eps_start, eps_end, eps_decay)\n",
    "agent = Agent(strategy, em.num_actions_available(), device)\n",
    "memory = ReplayMemory(memory_size)\n",
    "\n",
    "policy_net = DQN(em.get_screen_height(), em.get_screen_width()).to(device)\n",
    "target_net = DQN(em.get_screen_height(), em.get_screen_width()).to(device)\n",
    "target_net.load_state_dict(policy_net.state_dict())\n",
    "target_net.eval()\n",
    "optimizer = optim.Adam(params=policy_net.parameters(), lr=lr)\n",
    "\n",
    "episode_scores = []\n",
    "for episode in range(num_episodes):\n",
    "    em.reset()\n",
    "    state = em.get_state()\n",
    "    episode_scores.append(0)\n",
    "    \n",
    "    for timestep in count():\n",
    "        action = agent.select_action(state, policy_net)\n",
    "        reward = em.take_action(action)\n",
    "        next_state = em.get_state()\n",
    "        memory.push(Experience(state, action, next_state, reward))\n",
    "        state = next_state\n",
    "        \n",
    "        episode_scores[episode] += reward\n",
    "        \n",
    "        if(memory.can_provide_sample(batch_size)):\n",
    "            experiences = memory.sample(batch_size)\n",
    "            states, actions, rewards, next_states = extract_tensors(experiences)\n",
    "            \n",
    "            current_q_values = QValues.get_current(policy_net, states, actions)\n",
    "            next_q_values = QValues.get_next(target_net, next_states)\n",
    "            target_q_values = (next_q_values * gamma) + rewards\n",
    "            \n",
    "            loss = F.mse_loss(current_q_values, target_q_values.unsqueeze(1))\n",
    "            optimizer.zero_grad()\n",
    "            loss.backward()\n",
    "            optimizer.step()\n",
    "            \n",
    "        if em.done:\n",
    "            plot(episode_scores, 100)\n",
    "            break\n",
    "    \n",
    "    if episode % target_update == 0:\n",
    "        target_net.load_state_dict(policy_net.state_dict())\n",
    "\n",
    "em.close()"
   ]
  },
  {
   "cell_type": "markdown",
   "id": "e31c660d",
   "metadata": {},
   "source": [
    "6.How did you choose your decay rate and starting epsilon? Try at least one additional value for epsilon and the decay rate. How did it change the baseline performance? What is the value of epsilon when if you reach the max steps per episode? (5 Points)"
   ]
  },
  {
   "cell_type": "code",
   "execution_count": null,
   "id": "e6920ec7",
   "metadata": {},
   "outputs": [],
   "source": [
    "# change eps_start from 1 to 0.6\n",
    "batch_size = 256\n",
    "gamma = 0.999\n",
    "eps_start = 0.6\n",
    "eps_end = 0.01\n",
    "eps_decay = 0.001\n",
    "target_update = 10\n",
    "memory_size = 100000\n",
    "lr = 0.001\n",
    "num_episodes = 200\n",
    "\n",
    "device = torch.device(\"cuda\" if torch.cuda.is_available() else \"cpu\")\n",
    "em = SpaceInvadersEnvManager(device)\n",
    "strategy = EpsilonGreedyStrategy(eps_start, eps_end, eps_decay)\n",
    "agent = Agent(strategy, em.num_actions_available(), device)\n",
    "memory = ReplayMemory(memory_size)\n",
    "\n",
    "policy_net = DQN(em.get_screen_height(), em.get_screen_width()).to(device)\n",
    "target_net = DQN(em.get_screen_height(), em.get_screen_width()).to(device)\n",
    "target_net.load_state_dict(policy_net.state_dict())\n",
    "target_net.eval()\n",
    "optimizer = optim.Adam(params=policy_net.parameters(), lr=lr)\n",
    "\n",
    "episode_scores = []\n",
    "for episode in range(num_episodes):\n",
    "    em.reset()\n",
    "    state = em.get_state()\n",
    "    episode_scores.append(0)\n",
    "    \n",
    "    for timestep in count():\n",
    "        action = agent.select_action(state, policy_net)\n",
    "        reward = em.take_action(action)\n",
    "        next_state = em.get_state()\n",
    "        memory.push(Experience(state, action, next_state, reward))\n",
    "        state = next_state\n",
    "        \n",
    "        episode_scores[episode] += reward\n",
    "        \n",
    "        if(memory.can_provide_sample(batch_size)):\n",
    "            experiences = memory.sample(batch_size)\n",
    "            states, actions, rewards, next_states = extract_tensors(experiences)\n",
    "            \n",
    "            current_q_values = QValues.get_current(policy_net, states, actions)\n",
    "            next_q_values = QValues.get_next(target_net, next_states)\n",
    "            target_q_values = (next_q_values * gamma) + rewards\n",
    "            \n",
    "            loss = F.mse_loss(current_q_values, target_q_values.unsqueeze(1))\n",
    "            optimizer.zero_grad()\n",
    "            loss.backward()\n",
    "            optimizer.step()\n",
    "            \n",
    "        if em.done:\n",
    "            plot(episode_scores, 100)\n",
    "            break\n",
    "    \n",
    "    if episode % target_update == 0:\n",
    "        target_net.load_state_dict(policy_net.state_dict())\n",
    "\n",
    "em.close()"
   ]
  },
  {
   "cell_type": "code",
   "execution_count": null,
   "id": "92525a9a",
   "metadata": {},
   "outputs": [],
   "source": [
    "# change eps_decay from 0.001 to 0.6\n",
    "batch_size = 256\n",
    "gamma = 0.999\n",
    "eps_start = 1\n",
    "eps_end = 0.01\n",
    "eps_decay = 0.6\n",
    "target_update = 10\n",
    "memory_size = 100000\n",
    "lr = 0.001\n",
    "num_episodes = 200\n",
    "\n",
    "device = torch.device(\"cuda\" if torch.cuda.is_available() else \"cpu\")\n",
    "em = SpaceInvadersEnvManager(device)\n",
    "strategy = EpsilonGreedyStrategy(eps_start, eps_end, eps_decay)\n",
    "agent = Agent(strategy, em.num_actions_available(), device)\n",
    "memory = ReplayMemory(memory_size)\n",
    "\n",
    "policy_net = DQN(em.get_screen_height(), em.get_screen_width()).to(device)\n",
    "target_net = DQN(em.get_screen_height(), em.get_screen_width()).to(device)\n",
    "target_net.load_state_dict(policy_net.state_dict())\n",
    "target_net.eval()\n",
    "optimizer = optim.Adam(params=policy_net.parameters(), lr=lr)\n",
    "\n",
    "episode_scores = []\n",
    "for episode in range(num_episodes):\n",
    "    em.reset()\n",
    "    state = em.get_state()\n",
    "    episode_scores.append(0)\n",
    "    \n",
    "    for timestep in count():\n",
    "        action = agent.select_action(state, policy_net)\n",
    "        reward = em.take_action(action)\n",
    "        next_state = em.get_state()\n",
    "        memory.push(Experience(state, action, next_state, reward))\n",
    "        state = next_state\n",
    "        \n",
    "        episode_scores[episode] += reward\n",
    "        \n",
    "        if(memory.can_provide_sample(batch_size)):\n",
    "            experiences = memory.sample(batch_size)\n",
    "            states, actions, rewards, next_states = extract_tensors(experiences)\n",
    "            \n",
    "            current_q_values = QValues.get_current(policy_net, states, actions)\n",
    "            next_q_values = QValues.get_next(target_net, next_states)\n",
    "            target_q_values = (next_q_values * gamma) + rewards\n",
    "            \n",
    "            loss = F.mse_loss(current_q_values, target_q_values.unsqueeze(1))\n",
    "            optimizer.zero_grad()\n",
    "            loss.backward()\n",
    "            optimizer.step()\n",
    "            \n",
    "        if em.done:\n",
    "            plot(episode_scores, 100)\n",
    "            break\n",
    "    \n",
    "    if episode % target_update == 0:\n",
    "        target_net.load_state_dict(policy_net.state_dict())\n",
    "\n",
    "em.close()"
   ]
  },
  {
   "cell_type": "markdown",
   "id": "7d910527",
   "metadata": {},
   "source": [
    "7.What is the average number of steps taken per episode? (5 Points)"
   ]
  },
  {
   "cell_type": "code",
   "execution_count": null,
   "id": "792d401b",
   "metadata": {},
   "outputs": [],
   "source": [
    "def plot_steps(values, steps_avg_period):\n",
    "    plt.figure(2)\n",
    "    plt.clf()\n",
    "    plt.title('Training...')\n",
    "    plt.xlabel('Episode')\n",
    "    plt.ylabel('Steps')\n",
    "    plt.plot(values)\n",
    "    steps_avg = get_steps_average(steps_avg_period, values)\n",
    "    plt.pause(0.001)\n",
    "    print(\"Episode\", len(values), \"\\n\", \\\n",
    "          steps_avg_period, \"episode steps avg:\", steps_avg[-1])\n",
    "    if is_ipython: display.clear_output(wait=True)\n",
    "        \n",
    "def get_steps_average(period, values):\n",
    "    values = torch.tensor(values, dtype=torch.float)\n",
    "    if len(values) >= period:\n",
    "        steps_avg = values.unfold(dimension = 0, size = period, step = 1) \\\n",
    "            .mean(dim=1).flatten(start_dim=0)\n",
    "        steps_avg = torch.cat((torch.zeros(period-1), steps_avg))\n",
    "        return steps_avg.numpy()\n",
    "    else:\n",
    "        steps_avg = torch.zeros(len(values))\n",
    "        return steps_avg.numpy()"
   ]
  },
  {
   "cell_type": "code",
   "execution_count": null,
   "id": "aaa6ef65",
   "metadata": {},
   "outputs": [],
   "source": [
    "batch_size = 256\n",
    "gamma = 0.999\n",
    "eps_start = 1\n",
    "eps_end = 0.01\n",
    "eps_decay = 0.001\n",
    "target_update = 10\n",
    "memory_size = 100000\n",
    "lr = 0.001\n",
    "num_episodes = 100\n",
    "\n",
    "device = torch.device(\"cuda\" if torch.cuda.is_available() else \"cpu\")\n",
    "em = SpaceInvadersEnvManager(device)\n",
    "strategy = EpsilonGreedyStrategy(eps_start, eps_end, eps_decay)\n",
    "agent = Agent(strategy, em.num_actions_available(), device)\n",
    "memory = ReplayMemory(memory_size)\n",
    "\n",
    "policy_net = DQN(em.get_screen_height(), em.get_screen_width()).to(device)\n",
    "target_net = DQN(em.get_screen_height(), em.get_screen_width()).to(device)\n",
    "target_net.load_state_dict(policy_net.state_dict())\n",
    "target_net.eval()\n",
    "optimizer = optim.Adam(params=policy_net.parameters(), lr=lr)\n",
    "\n",
    "episode_scores = []\n",
    "steps = []\n",
    "for episode in range(num_episodes):\n",
    "    em.reset()\n",
    "    state = em.get_state()\n",
    "    episode_scores.append(0)\n",
    "    steps.append(0)\n",
    "    \n",
    "    for timestep in count():\n",
    "        action = agent.select_action(state, policy_net)\n",
    "        reward = em.take_action(action)\n",
    "        next_state = em.get_state()\n",
    "        memory.push(Experience(state, action, next_state, reward))\n",
    "        state = next_state\n",
    "        \n",
    "        episode_scores[episode] += reward\n",
    "        \n",
    "        if(memory.can_provide_sample(batch_size)):\n",
    "            experiences = memory.sample(batch_size)\n",
    "            states, actions, rewards, next_states = extract_tensors(experiences)\n",
    "            \n",
    "            current_q_values = QValues.get_current(policy_net, states, actions)\n",
    "            next_q_values = QValues.get_next(target_net, next_states)\n",
    "            target_q_values = (next_q_values * gamma) + rewards\n",
    "            \n",
    "            loss = F.mse_loss(current_q_values, target_q_values.unsqueeze(1))\n",
    "            optimizer.zero_grad()\n",
    "            loss.backward()\n",
    "            optimizer.step()\n",
    "            \n",
    "        if em.done:\n",
    "            steps[episode] = timestep\n",
    "            plot_steps(steps, 100)\n",
    "            break\n",
    "    \n",
    "    if episode % target_update == 0:\n",
    "        target_net.load_state_dict(policy_net.state_dict())\n",
    "\n",
    "em.close()"
   ]
  },
  {
   "cell_type": "markdown",
   "id": "d272a65c",
   "metadata": {},
   "source": [
    "8.Does Q-learning use value-based or policy-based iteration? (5 Points)\n",
    "Explain, not a yes or no question."
   ]
  },
  {
   "cell_type": "markdown",
   "id": "35de9537",
   "metadata": {},
   "source": [
    "Yes.Q learning is a value-based off-policy temporal difference (TD) reinforcement learning.\n",
    "Explain:In the value-based method, a random value function is selected at first, and then a new value function is found. This process is repeated until the optimal value function is found. The strategy is to follow the optimal value function will be the optimal strategy. In Q-learning, we update the Q value to find the best strategy."
   ]
  },
  {
   "cell_type": "markdown",
   "id": "6ee196ee",
   "metadata": {},
   "source": [
    "9.Could you use SARSA for this problem? (5 Points)\n",
    "Explain, not a yes or no question."
   ]
  },
  {
   "cell_type": "markdown",
   "id": "4ddcd692",
   "metadata": {},
   "source": [
    "Yes.Explain:The strategy used by the Q value is used to select actions from the state. After executing the action, observe the new state and use the strategy to select a new action in the new state, which is e-greedy now."
   ]
  },
  {
   "cell_type": "markdown",
   "id": "e0c00771",
   "metadata": {},
   "source": [
    "10.What is meant by the expected lifetime value in the Bellman equation? (5 Points)\n",
    "Explain, not a yes or no question."
   ]
  },
  {
   "cell_type": "markdown",
   "id": "3e34d5bd",
   "metadata": {},
   "source": [
    "V(s)=maxa(R(s,a)+ γV(s’))\n",
    "Value(V): Numeric representation of a state which helps the agent to find its path. V(s) here means the value of the states.\n",
    "Bellman equation is a system of functional equations about unknown functions. The method of applying the optimization principle and embedding principle to establish a system of functional equations is called the functional equation method. Special solutions should be sought according to specific problems."
   ]
  },
  {
   "cell_type": "markdown",
   "id": "c5db7da2",
   "metadata": {},
   "source": [
    "11.When would SARSA likely do better than Q-learning? (5 Points)\n",
    "Explain, not a yes or no question.\n",
    "\n"
   ]
  },
  {
   "cell_type": "markdown",
   "id": "8e1a8b7b",
   "metadata": {},
   "source": [
    "SARSA will approach convergence allowing for possible penalties from exploratory moves, whilst Q-learning will ignore them. That makes SARSA more conservative - if there is risk of a large negative reward close to the optimal path, Q-learning will tend to trigger that reward whilst exploring, whilst SARSA will tend to avoid a dangerous optimal path and only slowly learn to use it when the exploration parameters are reduced. \n",
    "\n",
    "In practice, if the error is costly, use SARSA is a better choice. And if we care about the rewards we get in the learning process, then SARSA may be a better choice."
   ]
  },
  {
   "cell_type": "markdown",
   "id": "a425005e",
   "metadata": {},
   "source": [
    "12.How does SARSA differ from Q-learning? (5 Points)\n",
    "Details including pseudocode and math.\n",
    "\n"
   ]
  },
  {
   "cell_type": "markdown",
   "id": "20468301",
   "metadata": {},
   "source": [
    "The most important difference between the two is how Q is updated after each operation.\n",
    "\n",
    "SARSA uses Q' strictly in accordance with the ε-greedy policy, because A'is extracted from Q'. \n",
    "\n",
    "In the SARSA algorithm, given a policy, the corresponding action-value function Q (in the state s and action a, at timestep t), i.e. Q(st, at), can be updated as follows\n",
    "\n",
    "Q(st, at) = Q(st, at) + α*(rt + γ*Q(st+1, at+1) - Q(st, at))\n",
    "\n",
    "The pseudocode of SARSA is:\n",
    "    \n",
    "Initialize Q(s,a),∀s∈S,a∈A(s),arbitrarily,and Q(terminal-state,)=0\n",
    "    \n",
    "Repeat (for each episode):\n",
    "\n",
    "    Initialize S\n",
    "\n",
    "    Repeat (for each step of episode):\n",
    "\n",
    "        Choose A from S using policy derived from Q\n",
    "\n",
    "        Take action A, observe R,S'\n",
    "\n",
    "        Q(S,A) ← Q(S,A) + α[R + γmaxαQ(S',a) - Q(S,A)]\n",
    "\n",
    "        S ← S'\n",
    "\n",
    "    until S is terminal\n",
    ".\n",
    "\n",
    "The update step for the Q-learning algorithm is the following\n",
    "\n",
    "Q(st, at) = Q(st, at) + α*(rt + γ*maxa Q(st+1, a) - Q(st, at))\n",
    "\n",
    "Which can also be written as\n",
    "\n",
    "Q(st, at) = (1 - α) * Q(st, at) + α * (rt + γ*maxa Q(st+1, a))\n",
    "\n",
    "Where γ (gamma) is the discount factor and rt is the reward received from the environment at timestep t.\n",
    "                                       \n",
    "The pseudocode of Q-learning is:\n",
    "                                       \n",
    "Initialize Q(s,a),∀s∈S,a∈A(s),arbitrarily,and Q(terminal-state,)=0\n",
    "\n",
    "Repeat (for each episode):\n",
    "    \n",
    "    Initialize S\n",
    "    \n",
    "    Choose A from S using policy derived from Q\n",
    "    \n",
    "    Repeat (for each step of episode):\n",
    "        \n",
    "        Take action A, observe R,S'\n",
    "        \n",
    "        Choose A' from S' using policy derived from Q\n",
    "        \n",
    "        Q(S,A) ← Q(S,A) + α[R + γmaxαQ(S',a) - Q(S,A)]\n",
    "                                       \n",
    "        S ← S'\n",
    "                                \n",
    "    until S is terminal\n",
    "\n",
    "So SARSA only looks up the next policy value while Q-learning looks up the next maximum policy value.\n",
    "\n"
   ]
  },
  {
   "cell_type": "markdown",
   "id": "5b4c2889",
   "metadata": {},
   "source": [
    "13.Explain the Q-learning algorithm. (5 Points)\n",
    "Details including pseudocode and math.\n",
    "\n"
   ]
  },
  {
   "cell_type": "markdown",
   "id": "9fc88b91",
   "metadata": {},
   "source": [
    "Q-learning is a model-free reinforcement learning algorithm to learn the value of an action in a particular state. It does not require a model of the environment (hence \"model-free\"), and it can handle problems with stochastic transitions and rewards without requiring adaptations.\n",
    "\n",
    "There are two hyperparameters need to be set: learning rate alpha and discount rate gamma. Alpha represents for how quickly agents will adopt new Q-value, and gamma determines whether agents are going to access immediate reward or future reward.\n",
    "\n",
    "As the loss is reduced to zero, Q-value will no longer change, so the Q-value converges to the optimal Q-value.\n",
    "\n",
    "The pseudocode as following:\n",
    "    \n",
    "Initialize Q(s,a),∀s∈S,a∈A(s),arbitrarily,and Q(terminal-state,)=0\n",
    "\n",
    "Repeat (for each episode):\n",
    "    \n",
    "    Initialize S\n",
    "    \n",
    "    Repeat (for each step of episode):\n",
    "        \n",
    "        Choose A from S using policy derived from Q\n",
    "        \n",
    "        Take action A, observe R,S'\n",
    "        \n",
    "        Q(S,A) ← Q(S,A) + α[R + γmaxαQ(S',a) - Q(S,A)]\n",
    "                                       \n",
    "        S ← S'\n",
    "                                \n",
    "    until S is terminal\n",
    "    "
   ]
  },
  {
   "cell_type": "markdown",
   "id": "2cd1f14b",
   "metadata": {},
   "source": [
    "14.Explain the SARSA algorithm. (5 Points)\n",
    "Details including pseudocode and math."
   ]
  },
  {
   "cell_type": "markdown",
   "id": "6a0395fc",
   "metadata": {},
   "source": [
    "SARSA(State action reward state action) is an algorithm for learning a Markov decision process policy.SARSA is using TD method for evaluation and prediction.\n",
    "\n",
    "The SARSA agent interacts with the environment and updates the policy based on the actions taken, so this is called a policy-based learning algorithm. The Q value of the state action is updated by the error and adjusted by the learning rate alpha. The Q value represents the possible reward for taking action a in state s in the next time step, plus the discounted future reward received from the next state-action observation.\n",
    "\n",
    "The pseudocode as follow:\n",
    "    \n",
    "Initialize Q(s,a),∀s∈S,a∈A(s),arbitrarily,and Q(terminal-state,)=0\n",
    "\n",
    "Repeat (for each episode):\n",
    "    \n",
    "    Initialize S\n",
    "    \n",
    "    Choose A from S using policy derived from Q\n",
    "    \n",
    "    Repeat (for each step of episode):\n",
    "        \n",
    "        Take action A, observe R,S'\n",
    "        \n",
    "        Choose A' from S' using policy derived from Q\n",
    "        \n",
    "        Q(S,A) ← Q(S,A) + α[R + γmaxαQ(S',a) - Q(S,A)]\n",
    "                                       \n",
    "        S ← S'\n",
    "                                \n",
    "    until S is terminal"
   ]
  },
  {
   "cell_type": "markdown",
   "id": "03395aa5",
   "metadata": {},
   "source": [
    "15.What code is yours and what have you adapted? (5 Points)\n",
    "You must explain what code you wrote and what you have done that is different. Failure to cite ANY code will result in a zero for this section."
   ]
  },
  {
   "cell_type": "markdown",
   "id": "cdeb0e36",
   "metadata": {},
   "source": [
    "I wrote and adapted the Instructions part, make it more efficient and fit"
   ]
  },
  {
   "cell_type": "markdown",
   "id": "6e19f442",
   "metadata": {},
   "source": [
    "https://towardsdatascience.com/q-learning-algorithm-from-explanation-to-implementation-cdbeda2ea187\n",
    "https://www.researchgate.net/figure/Pseudocode-for-the-implemented-Q-learning-algorithm_fig4_344634163\n",
    "https://blog.csdn.net/zzl_sjtu/article/details/124268375?ops_request_misc=%257B%2522request%255Fid%2522%253A%2522166723041316782417047757%2522%252C%2522scm%2522%253A%252220140713.130102334.pc%255Fall.%2522%257D&request_id=166723041316782417047757&biz_id=0&utm_medium=distribute.pc_search_result.none-task-blog-2~all~first_rank_ecpm_v1~rank_v31_ecpm-1-124268375-null-null.142^v62^pc_search_tree,201^v3^control_2,213^v1^control&utm_term=ale_py%20roms&spm=1018.2226.3001.4187\n",
    "https://stackoverflow.com/questions/6848828/what-is-the-difference-between-q-learning-and-sarsa"
   ]
  },
  {
   "cell_type": "markdown",
   "id": "faf43b5b",
   "metadata": {},
   "source": [
    "17.Did I explain my licensing clearly? (5 Points)\n",
    "Failure to cite a clear license will result in a zero for this section."
   ]
  },
  {
   "cell_type": "markdown",
   "id": "faad55e3",
   "metadata": {},
   "source": [
    "Copyright 2022 Yiyun Chen\n",
    "\n",
    "Permission is hereby granted, free of charge, to any person obtaining a copy of this software and associated documentation files (the \"Software\"), to deal in the Software without restriction, including without limitation the rights to use, copy, modify, merge, publish, distribute, sublicense, and/or sell copies of the Software, and to permit persons to whom the Software is furnished to do so, subject to the following conditions:\n",
    "\n",
    "The above copyright notice and this permission notice shall be included in all copies or substantial portions of the Software.\n",
    "\n",
    "THE SOFTWARE IS PROVIDED \"AS IS\", WITHOUT WARRANTY OF ANY KIND, EXPRESS OR IMPLIED, INCLUDING BUT NOT LIMITED TO THE WARRANTIES OF MERCHANTABILITY, FITNESS FOR A PARTICULAR PURPOSE AND NONINFRINGEMENT. IN NO EVENT SHALL THE AUTHORS OR COPYRIGHT HOLDERS BE LIABLE FOR ANY CLAIM, DAMAGES OR OTHER LIABILITY, WHETHER IN AN ACTION OF CONTRACT, TORT OR OTHERWISE, ARISING FROM, OUT OF OR IN CONNECTION WITH THE SOFTWARE OR THE USE OR OTHER DEALINGS IN THE SOFTWARE."
   ]
  },
  {
   "cell_type": "code",
   "execution_count": null,
   "id": "4b8f5b70",
   "metadata": {},
   "outputs": [],
   "source": []
  }
 ],
 "metadata": {
  "kernelspec": {
   "display_name": "Python [conda env:py3.6]",
   "language": "python",
   "name": "conda-env-py3.6-py"
  },
  "language_info": {
   "codemirror_mode": {
    "name": "ipython",
    "version": 3
   },
   "file_extension": ".py",
   "mimetype": "text/x-python",
   "name": "python",
   "nbconvert_exporter": "python",
   "pygments_lexer": "ipython3",
   "version": "3.6.13"
  }
 },
 "nbformat": 4,
 "nbformat_minor": 5
}
